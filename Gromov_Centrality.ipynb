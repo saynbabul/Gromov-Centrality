{
 "cells": [
  {
   "cell_type": "code",
   "execution_count": 1,
   "metadata": {},
   "outputs": [],
   "source": [
    "#The Gromov Centrality for a node i in graph G can be computed using any distance metric. In our paper, we focus on the shortest path distances between nodes. The matrix of shortest path distances can be computed using Networkx. \n",
    "\n",
    "#importing networkx, and other packages \n",
    "\n",
    "import numpy as np\n",
    "import matplotlib.pyplot as plt\n",
    "import networkx as nx\n",
    "\n",
    "#computing shortest path distance matrix for graph G \n",
    "\n",
    "def shortest_path_matrix(G): \n",
    "    lengths = dict(nx.all_pairs_shortest_path_length(G))\n",
    "    shortest_path_matrix = np.array([[length[n][m] for m in G.nodes] for n in G.nodes], dtype=np.int32)\n",
    "    return shortest_path_matrix\n",
    "\n",
    "#function that returns the Gromov centrality for a given node. The function takes the node number, the distance matrix, and the maximum path (which is the scale l) \n",
    "   \n",
    "def Gromov_Centrality(node, path_matrix, max_path): \n",
    "    \n",
    "    #find the size of the l-hood for node, depending on the chosen scale \n",
    "    \n",
    "    node_paths = path_matrix[node,:]\n",
    "    lhood = np.where((node_paths <= max_path) & (node_paths > 0))\n",
    "    lhood_size = len(lhood[0])\n",
    "    \n",
    "    #if the lhood size is 0, the Gromov product is undefined \n",
    "    if lhood_size > 1: \n",
    "        #find the set of all tuples j,k composed of nodes in the lhood \n",
    "        tuples = list(itertools.permutations(lhood[0], 2))\n",
    "        tuples_size = len(tuples)\n",
    "        subtract = 2*np.sum(path_matrix[node,lhood[0]])*(lhood_size -1)\n",
    "    \n",
    "        summation = 0 \n",
    "        for i in range(tuples_size):\n",
    "            a = tuples[i]\n",
    "            summation += path_matrix[a]\n",
    "        \n",
    "        #compute the final gromov product \n",
    "        final_return = (summation - subtract)*(1/((lhood_size)*(lhood_size-1)))\n",
    "    \n",
    "        return final_return\n",
    "    else: \n",
    "        return 0  "
   ]
  },
  {
   "cell_type": "code",
   "execution_count": null,
   "metadata": {},
   "outputs": [],
   "source": []
  }
 ],
 "metadata": {
  "kernelspec": {
   "display_name": "Python 3",
   "language": "python",
   "name": "python3"
  },
  "language_info": {
   "codemirror_mode": {
    "name": "ipython",
    "version": 3
   },
   "file_extension": ".py",
   "mimetype": "text/x-python",
   "name": "python",
   "nbconvert_exporter": "python",
   "pygments_lexer": "ipython3",
   "version": "3.8.5"
  }
 },
 "nbformat": 4,
 "nbformat_minor": 4
}
